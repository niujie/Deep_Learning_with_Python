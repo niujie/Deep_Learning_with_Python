{
 "metadata": {
  "language_info": {
   "codemirror_mode": {
    "name": "ipython",
    "version": 3
   },
   "file_extension": ".py",
   "mimetype": "text/x-python",
   "name": "python",
   "nbconvert_exporter": "python",
   "pygments_lexer": "ipython3",
   "version": 3
  },
  "orig_nbformat": 2
 },
 "nbformat": 4,
 "nbformat_minor": 2,
 "cells": [
  {
   "cell_type": "markdown",
   "metadata": {},
   "source": [
    "**代码清单 4-1** 留出验证"
   ]
  },
  {
   "cell_type": "code",
   "execution_count": null,
   "metadata": {},
   "outputs": [],
   "source": [
    "'''\n",
    "num_validation_samples = 10000\n",
    "\n",
    "np.random.shuffle(data)  # 通常需要打乱数据\n",
    "\n",
    "validation_data = data[ : num_validation_samples]  # 定义验证集\n",
    "data = data[num_validation_samples : ]\n",
    "\n",
    "training_data = data[:]  # 定义训练集\n",
    "\n",
    "# 在训练数据上训练模型，并在验证数据上评估模型\n",
    "model = get_model()\n",
    "model.train(training_data)\n",
    "validation_score = model.evaluate(validation_data)\n",
    "\n",
    "# 现在可以调节模型、重新训练、评估，然后再次调节……\n",
    "\n",
    "model = get_model()\n",
    "# 一旦调节好超参数，通常就在所有非测试数据上从头开始训练最终模型\n",
    "model.train(np.concatenate([training_data, validation_data]))\n",
    "test_score = model.evaluate(test_data)\n",
    "'''"
   ]
  },
  {
   "cell_type": "markdown",
   "metadata": {},
   "source": [
    "**代码清单 4-2** K折交叉验证"
   ]
  },
  {
   "cell_type": "code",
   "execution_count": null,
   "metadata": {},
   "outputs": [],
   "source": [
    "'''\n",
    "k = 4\n",
    "num_validation_samples = len(data) // k\n",
    "\n",
    "np.random.shuffle(data)\n",
    "\n",
    "validation_scores = []\n",
    "for fold in range(k):\n",
    "    # 选择验证数据分区\n",
    "    validation_data = data[num_validation_samples * fold : num_validation_samples * (fold + 1)]\n",
    "    # 使用剩余数据作为训练数据。注意， + 运算符是列表合并，不是求和\n",
    "    training_data = data[ : num_validation_samples * fold] + data[num_validation_samples * (fold + 1) : ]\n",
    "\n",
    "    # 创建一个全新的模型实例（未训练）\n",
    "    model = get_model()\n",
    "    model.train(training_data)\n",
    "    validation_score = model.evaluate(validation_data)\n",
    "    validation_scores.append(validation_score)\n",
    "\n",
    "# 最终验证分数：K折验证分数的平均值\n",
    "validation_score = np.average(validation_scores)\n",
    "\n",
    "# 在所有非测试数据上训练最终模型\n",
    "model = get_model()\n",
    "model.train(data)\n",
    "test_score = model.evaluate(test_data)\n",
    "'''"
   ]
  }
 ]
}