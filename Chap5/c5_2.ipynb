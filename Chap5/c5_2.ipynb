{
 "metadata": {
  "language_info": {
   "codemirror_mode": {
    "name": "ipython",
    "version": 3
   },
   "file_extension": ".py",
   "mimetype": "text/x-python",
   "name": "python",
   "nbconvert_exporter": "python",
   "pygments_lexer": "ipython3",
   "version": "3.7.8-final"
  },
  "orig_nbformat": 2,
  "kernelspec": {
   "name": "python3",
   "display_name": "Python 3"
  }
 },
 "nbformat": 4,
 "nbformat_minor": 2,
 "cells": [
  {
   "cell_type": "markdown",
   "metadata": {},
   "source": [
    "## 5.2 在小型数据集上从头开始训练一个卷积神经网络\n",
    "### 5.2.2 下载数据\n",
    "**代码清单 5-4** 将图像复制到训练、验证和测试的目录"
   ]
  },
  {
   "cell_type": "code",
   "execution_count": null,
   "metadata": {},
   "outputs": [],
   "source": [
    "import os, shutil\n",
    "\n",
    "# 原始数据集解压目录路径\n",
    "original_dataset_dir = 'C:\\\\Users\\\\jay_n\\\\.keras\\\\datasets\\\\cats_and_dogs_train\\\\train'\n",
    "\n",
    "# 保存较小数据集的目录\n",
    "base_dir = 'C:\\\\Users\\\\jay_n\\\\.keras\\\\datasets\\\\cats_and_dogs_train\\\\cats_and_dogs_small'\n",
    "if 'cats_and_dogs_small' not in os.listdir('C:\\\\Users\\\\jay_n\\\\.keras\\\\datasets\\\\cats_and_dogs_train'):\n",
    "    os.mkdir(base_dir)\n",
    "\n",
    "# 分别对应划分后的训练、验证和测试的目录\n",
    "train_dir = os.path.join(base_dir, 'train')\n",
    "if 'train' not in os.listdir(base_dir):\n",
    "    os.mkdir(train_dir)\n",
    "validation_dir = os.path.join(base_dir, 'validation')\n",
    "if 'validation' not in os.listdir(base_dir):\n",
    "    os.mkdir(validation_dir)\n",
    "test_dir = os.path.join(base_dir, 'test')\n",
    "if 'test' not in os.listdir(base_dir):\n",
    "    os.mkdir(test_dir)\n",
    "\n",
    "# 猫的训练图像目录\n",
    "train_cats_dir = os.path.join(train_dir, 'cats')\n",
    "if 'cats' not in os.listdir(train_dir):\n",
    "    os.mkdir(train_cats_dir)\n",
    "\n",
    "# 狗的训练图像目录\n",
    "train_dogs_dir = os.path.join(train_dir, 'dogs')\n",
    "if 'dogs' not in os.listdir(train_dir):\n",
    "    os.mkdir(train_dogs_dir)\n",
    "\n",
    "# 猫的验证图像目录\n",
    "validation_cats_dir = os.path.join(validation_dir, 'cats')\n",
    "if 'cats' not in os.listdir(validation_dir):\n",
    "    os.mkdir(validation_cats_dir)\n",
    "\n",
    "# 狗的验证图像目录\n",
    "validation_dogs_dir = os.path.join(validation_dir, 'dogs')\n",
    "if 'dogs' not in os.listdir(validation_dir):\n",
    "    os.mkdir(validation_dogs_dir)\n",
    "\n",
    "# 猫的测试图像目录\n",
    "test_cats_dir = os.path.join(test_dir, 'cats')\n",
    "if 'cats' not in os.listdir(test_dir):\n",
    "    os.mkdir(test_cats_dir)\n",
    "\n",
    "# 狗的测试图像目录\n",
    "test_dogs_dir = os.path.join(test_dir, 'dogs')\n",
    "if 'dogs' not in os.listdir(test_dir):\n",
    "    os.mkdir(test_dogs_dir)\n",
    "\n",
    "# 将前1000张猫的图像复制到train_cats_dir\n",
    "fnames = ['cat.{}.jpg'.format(i) for i in range(1000)]\n",
    "for fname in fnames:\n",
    "    src = os.path.join(original_dataset_dir, fname)\n",
    "    dst = os.path.join(train_cats_dir, fname)\n",
    "    shutil.copyfile(src, dst)\n",
    "\n",
    "# 将接下来500张猫的图像复制到validation_cats_dir\n",
    "fnames = ['cat.{}.jpg'.format(i) for i in range(1000, 1500)]\n",
    "for fname in fnames:\n",
    "    src = os.path.join(original_dataset_dir, fname)\n",
    "    dst = os.path.join(validation_cats_dir, fname)\n",
    "    shutil.copyfile(src, dst)\n",
    "\n",
    "# 将接下来500张猫的图像复制到test_cats_dir\n",
    "fnames = ['cat.{}.jpg'.format(i) for i in range(1500, 2000)]\n",
    "for fname in fnames:\n",
    "    src = os.path.join(original_dataset_dir, fname)\n",
    "    dst = os.path.join(test_cats_dir, fname)\n",
    "    shutil.copyfile(src, dst)\n",
    "\n",
    "# 将前1000张狗的图像复制到train_dogs_dir\n",
    "fnames = ['dog.{}.jpg'.format(i) for i in range(1000)]\n",
    "for fname in fnames:\n",
    "    src = os.path.join(original_dataset_dir, fname)\n",
    "    dst = os.path.join(train_dogs_dir, fname)\n",
    "    shutil.copyfile(src, dst)\n",
    "\n",
    "# 将接下来500张狗的图像复制到validation_dogs_dir\n",
    "fnames = ['dog.{}.jpg'.format(i) for i in range(1000, 1500)]\n",
    "for fname in fnames:\n",
    "    src = os.path.join(original_dataset_dir, fname)\n",
    "    dst = os.path.join(validation_dogs_dir, fname)\n",
    "    shutil.copyfile(src, dst)\n",
    "\n",
    "# 将接下来500张狗的图像复制到test_dogs_dir\n",
    "fnames = ['dog.{}.jpg'.format(i) for i in range(1500, 2000)]\n",
    "for fname in fnames:\n",
    "    src = os.path.join(original_dataset_dir, fname)\n",
    "    dst = os.path.join(test_dogs_dir, fname)\n",
    "    shutil.copyfile(src, dst)"
   ]
  },
  {
   "cell_type": "code",
   "execution_count": null,
   "metadata": {
    "tags": []
   },
   "outputs": [],
   "source": [
    "print('total training cat images:', len(os.listdir(train_cats_dir)))"
   ]
  },
  {
   "cell_type": "code",
   "execution_count": null,
   "metadata": {
    "tags": []
   },
   "outputs": [],
   "source": [
    "print('total training dog images:', len(os.listdir(train_dogs_dir)))"
   ]
  },
  {
   "cell_type": "code",
   "execution_count": null,
   "metadata": {
    "tags": []
   },
   "outputs": [],
   "source": [
    "print('total validation cat images:', len(os.listdir(validation_cats_dir)))"
   ]
  },
  {
   "cell_type": "code",
   "execution_count": null,
   "metadata": {
    "tags": []
   },
   "outputs": [],
   "source": [
    "print('total validation dog images:', len(os.listdir(validation_dogs_dir)))"
   ]
  },
  {
   "cell_type": "code",
   "execution_count": null,
   "metadata": {
    "tags": []
   },
   "outputs": [],
   "source": [
    "print('total test cat images:', len(os.listdir(test_cats_dir)))"
   ]
  },
  {
   "cell_type": "code",
   "execution_count": null,
   "metadata": {
    "tags": []
   },
   "outputs": [],
   "source": [
    "print('total test dog images:', len(os.listdir(test_dogs_dir)))"
   ]
  },
  {
   "cell_type": "markdown",
   "metadata": {},
   "source": [
    "### 构建网络\n",
    "**代码清单 5-5** 将猫狗分类的小型卷积神经网络实例化"
   ]
  },
  {
   "cell_type": "code",
   "execution_count": null,
   "metadata": {
    "tags": []
   },
   "outputs": [],
   "source": [
    "from keras import layers\n",
    "from keras import models\n",
    "\n",
    "model = models.Sequential()\n",
    "model.add(layers.Conv2D(32, (3, 3), activation='relu', input_shape=(150, 150, 3)))\n",
    "model.add(layers.MaxPool2D((2, 2)))\n",
    "model.add(layers.Conv2D(64, (3, 3), activation='relu'))\n",
    "model.add(layers.MaxPool2D((2, 2)))\n",
    "model.add(layers.Conv2D(128, (3, 3), activation='relu'))\n",
    "model.add(layers.MaxPool2D(2, 2))\n",
    "model.add(layers.Conv2D(128, (3, 3), activation='relu'))\n",
    "model.add(layers.MaxPool2D((2, 2)))\n",
    "model.add(layers.Flatten())\n",
    "model.add(layers.Dense(512, activation='relu'))\n",
    "model.add(layers.Dense(1, activation='sigmoid'))\n",
    "\n",
    "model.summary()"
   ]
  },
  {
   "cell_type": "markdown",
   "metadata": {},
   "source": [
    "**代码清单 5-6** 配置模型用于训练"
   ]
  },
  {
   "cell_type": "code",
   "execution_count": null,
   "metadata": {},
   "outputs": [],
   "source": [
    "from keras import optimizers\n",
    "\n",
    "model.compile(loss='binary_crossentropy',\n",
    "              optimizer=optimizers.RMSprop(lr=1e-4),\n",
    "              metrics=['acc'])"
   ]
  },
  {
   "cell_type": "markdown",
   "metadata": {},
   "source": [
    "### 5.2.4 数据预处理\n",
    "**代码清单 5-7** 使用ImageDataGenerator从目录中读取图像"
   ]
  },
  {
   "cell_type": "code",
   "execution_count": null,
   "metadata": {
    "tags": []
   },
   "outputs": [],
   "source": [
    "from keras.preprocessing.image import ImageDataGenerator\n",
    "\n",
    "# 将所有图像乘以1/255缩放\n",
    "train_datagen = ImageDataGenerator(rescale=1./255)\n",
    "test_datagen = ImageDataGenerator(rescale=1./255)\n",
    "\n",
    "train_generator = train_datagen.flow_from_directory(\n",
    "    train_dir,  # 目标目录\n",
    "    target_size=(150, 150),  # 将所有图像的大小调整为150x150\n",
    "    batch_size=20,\n",
    "    class_mode='binary')  # 因为使用了binary_crossentropy损失，所以需要用二进制标签\n",
    "\n",
    "validation_generator = test_datagen.flow_from_directory(\n",
    "    validation_dir,\n",
    "    target_size=(150, 150),\n",
    "    batch_size=20,\n",
    "    class_mode='binary')"
   ]
  },
  {
   "cell_type": "code",
   "execution_count": null,
   "metadata": {
    "tags": []
   },
   "outputs": [],
   "source": [
    "for data_batch, labels_batch in train_generator:\n",
    "    print('data batch shape:', data_batch.shape)\n",
    "    print('labels batch shape:', labels_batch.shape)\n",
    "    break"
   ]
  },
  {
   "cell_type": "code",
   "execution_count": null,
   "metadata": {},
   "outputs": [],
   "source": []
  }
 ]
}