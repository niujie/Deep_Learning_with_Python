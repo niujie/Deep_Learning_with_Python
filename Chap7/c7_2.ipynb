{
 "metadata": {
  "language_info": {
   "codemirror_mode": {
    "name": "ipython",
    "version": 3
   },
   "file_extension": ".py",
   "mimetype": "text/x-python",
   "name": "python",
   "nbconvert_exporter": "python",
   "pygments_lexer": "ipython3",
   "version": "3.7.3-final"
  },
  "orig_nbformat": 2,
  "kernelspec": {
   "name": "python37364bitcc54e695a00e4f719d9cd968d28c790c",
   "display_name": "Python 3.7.3 64-bit"
  }
 },
 "nbformat": 4,
 "nbformat_minor": 2,
 "cells": [
  {
   "cell_type": "markdown",
   "metadata": {},
   "source": [
    "## 7.2 使用Keras回调函数和TensorBoard来检查并监控深度学习模型\n",
    "### 7.2.1 训练过程中将回调函数作用于模型\n",
    "**1. ModelCheckpoint与EarlyStopping回调函数**"
   ]
  },
  {
   "cell_type": "code",
   "execution_count": null,
   "metadata": {
    "tags": []
   },
   "outputs": [],
   "source": [
    "import keras\n",
    "\n",
    "# 通过fit的callbakcs参数将回调函数传入模型中，这个参数\n",
    "# 接收一个回调函数的列表。可以传入任意个数的回调函数\n",
    "callbacks_list = [\n",
    "    # 如果不再改善，就中断训练\n",
    "    keras.callbacks.EarlyStopping(\n",
    "        monitor='acc',  # 监控模型的验证精度\n",
    "        patience=1,     # 如果精度在多于一轮的时间（即两轮）内不再改善，中断训练\n",
    "    ),\n",
    "    # 在每轮过后保存当前权重\n",
    "    keras.callbacks.ModelCheckpoint(\n",
    "        filepath='my_model.h5',     # 目标模型文件的保存路径\n",
    "        # 下面两行参数的含义是，如果val_loss没有改善，那么不需要覆盖模型文件。\n",
    "        # 这样就可以始终保存在训练过程中见到的最佳模型\n",
    "        monitor='val_loss',\n",
    "        save_best_only=True,\n",
    "    )\n",
    "]\n",
    "'''\n",
    "model.compile(optimizer='rmsprop',\n",
    "              loss='binary_crossentropy',\n",
    "              metrics=['acc'])      # 监控精度，应该是模型指标的一部分\n",
    "\n",
    "# 注意，由于回调函数要监控验证损失和验证精度，所以在调用fit时需要传入validation_data（验证数据）\n",
    "model.fit(x, y,\n",
    "          epochs=10,\n",
    "          batch_size=32,\n",
    "          callbacks=callbacks_list,\n",
    "          validation_data=(x_val, y_val))\n",
    "'''          "
   ]
  },
  {
   "cell_type": "markdown",
   "metadata": {},
   "source": [
    "**2. ReduceLROnPlateau 回调函数**"
   ]
  },
  {
   "cell_type": "code",
   "execution_count": null,
   "metadata": {},
   "outputs": [],
   "source": [
    "callbacks_list = [\n",
    "    keras.callbacks.ReduceLROnPlateau(\n",
    "        monitor='val_loss',     # 监控模型的验证损失\n",
    "        factor=0.1,             # 触发时将学习率除以10\n",
    "        patience=10,            # 如果验证损失在10轮内都没有改善，那么就触发这个回调函数\n",
    "    )\n",
    "]\n",
    "'''\n",
    "# 注意，由于回调函数要监控验证损失，所以在调用fit时需要传入validation_data（验证数据）\n",
    "model.fit(x, y,\n",
    "          epochs=10,\n",
    "          batch_size=32,\n",
    "          callbacks=callbacks_list,\n",
    "          validation_data=(x_val, y_val))\n",
    "'''   "
   ]
  },
  {
   "cell_type": "markdown",
   "metadata": {},
   "source": [
    "**3. 编写你自己的回调函数**"
   ]
  },
  {
   "cell_type": "code",
   "execution_count": null,
   "metadata": {},
   "outputs": [],
   "source": [
    "import keras\n",
    "import numpy as np\n",
    "\n",
    "class ActivationLogger(keras.callbacks.Callback):\n",
    "\n",
    "    def set_model(self, model):\n",
    "        # 在训练之前由父模型调用，告诉回调函数是哪个模型在调用它\n",
    "        self.model = model\n",
    "        layer_outputs = [layer.output for layer in model.layers]\n",
    "        # 模型实例，返回每层的激活\n",
    "        self.activation_model = keras.models.Model(model.input, layer_outputs)\n",
    "    \n",
    "    def on_epoch_end(self, epoch, logs=None):\n",
    "        if self.validation_data is None:\n",
    "            raise RuntimeError('Requires validation_data.')\n",
    "        # 获取验证数据的第一个输入样本\n",
    "        validation_sample = self.validation_data[0][0:1]\n",
    "        activations = self.activation_model.predict(validation_sample)\n",
    "        # 将数组保存到硬盘\n",
    "        f = open('activations_at_epoch_' + str(epoch) + '.npz', 'w')\n",
    "        np.savez(f, activations)\n",
    "        f.close()"
   ]
  },
  {
   "cell_type": "markdown",
   "metadata": {},
   "source": [
    "### 7.2.2 TensorBoard简介：TensorFlow的可视化框架\n",
    "**代码清单 7-7** 使用了TensorBoard的文本分类模型"
   ]
  },
  {
   "cell_type": "code",
   "execution_count": null,
   "metadata": {
    "tags": []
   },
   "outputs": [],
   "source": [
    "import keras\n",
    "from keras import layers\n",
    "from keras.datasets import imdb\n",
    "from keras.preprocessing import sequence\n",
    "\n",
    "import numpy as np\n",
    "# save np.load\n",
    "np_load_old = np.load\n",
    "\n",
    "# modify the default parameters of np.load\n",
    "np.load = lambda *a, **k: np_load_old(*a, allow_pickle=True, **k)\n",
    "\n",
    "# 作为特征的单词个数\n",
    "max_features = 2000\n",
    "# 在maxlen个单词之后截断文本（这些单词都属于前max_features个最常见的单词）\n",
    "max_len = 500\n",
    "\n",
    "(x_train, y_train), (x_test, y_test) = imdb.load_data(num_words=max_features)\n",
    "\n",
    "# restore np.load for future normal usage\n",
    "np.load = np_load_old\n",
    "\n",
    "x_train = sequence.pad_sequences(x_train, maxlen=max_len)\n",
    "x_test = sequence.pad_sequences(x_test, maxlen=max_len)\n",
    "\n",
    "model = keras.models.Sequential()\n",
    "model.add(layers.Embedding(max_features, 128,\n",
    "                           input_length=max_len,\n",
    "                           name='embed'))\n",
    "model.add(layers.Conv1D(32, 7, activation='relu'))\n",
    "model.add(layers.MaxPool1D(5))\n",
    "model.add(layers.Conv1D(32, 7, activation='relu'))\n",
    "model.add(layers.GlobalMaxPool1D())\n",
    "model.add(layers.Dense(1))\n",
    "model.summary()\n",
    "model.compile(optimizer='rmsprop',\n",
    "              loss='binary_crossentropy',\n",
    "              metrics=['acc'])                           "
   ]
  },
  {
   "cell_type": "markdown",
   "metadata": {},
   "source": [
    "**代码清单 7-9** 使用一个TensorBoard回调函数来训练模型"
   ]
  },
  {
   "cell_type": "code",
   "execution_count": null,
   "metadata": {},
   "outputs": [],
   "source": [
    "callbacks = [\n",
    "    keras.callbacks.TensorBoard(\n",
    "        log_dir='my_log_dir',   # 日志文件将被写入这个位置\n",
    "        histogram_freq = 1,     # 每一轮之后记录激活直方图\n",
    "        embeddings_freq=1,      # 每一轮之后记录嵌入数据\n",
    "    )\n",
    "]\n",
    "\n",
    "history = model.fit(x_train, y_train,\n",
    "                    epochs=20,\n",
    "                    batch_size=128,\n",
    "                    validation_split=0.2,\n",
    "                    callbacks=callbacks)"
   ]
  },
  {
   "cell_type": "code",
   "execution_count": null,
   "metadata": {},
   "outputs": [],
   "source": [
    "from keras.utils import plot_model\n",
    "\n",
    "plot_model(model, to_file='model1.png')"
   ]
  },
  {
   "cell_type": "code",
   "execution_count": null,
   "metadata": {},
   "outputs": [],
   "source": [
    "from keras.utils import plot_model\n",
    "\n",
    "plot_model(model, show_shapes=True, to_file='model1.png')"
   ]
  },
  {
   "cell_type": "code",
   "execution_count": null,
   "metadata": {},
   "outputs": [],
   "source": []
  }
 ]
}